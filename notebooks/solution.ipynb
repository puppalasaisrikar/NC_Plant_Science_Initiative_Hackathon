{
  "nbformat": 4,
  "nbformat_minor": 0,
  "metadata": {
    "colab": {
      "provenance": []
    },
    "kernelspec": {
      "name": "python3",
      "display_name": "Python 3"
    },
    "language_info": {
      "name": "python"
    }
  },
  "cells": [
    {
      "cell_type": "code",
      "source": [
        "import pandas as pd\n",
        "import numpy as np\n",
        "from sklearn.preprocessing import MinMaxScaler\n",
        "from sklearn.linear_model import LinearRegression, Ridge, Lasso\n",
        "from sklearn.neighbors import KNeighborsRegressor\n",
        "from sklearn.ensemble import RandomForestRegressor"
      ],
      "metadata": {
        "id": "Apfj5RafX8xh"
      },
      "execution_count": 1,
      "outputs": []
    },
    {
      "cell_type": "code",
      "source": [
        "# Load training data\n",
        "train_data = pd.read_csv('train_data.csv')\n",
        "\n",
        "# Load test data\n",
        "test_data = pd.read_csv('test_data.csv')\n",
        "\n",
        "# Prepare the data\n",
        "X_train = train_data[['avg_pH', 'avg_EC', 'avg_moisture']]\n",
        "y_biomass = train_data['biomass']\n",
        "y_plant_height = train_data['plant_height']\n",
        "\n",
        "X_test = test_data[['avg_pH', 'avg_EC', 'avg_moisture']]"
      ],
      "metadata": {
        "id": "BWSbpWVEFylM"
      },
      "execution_count": 2,
      "outputs": []
    },
    {
      "cell_type": "code",
      "source": [
        "# Scale the features\n",
        "scaler = MinMaxScaler()\n",
        "X_train_scaled = scaler.fit_transform(X_train)\n",
        "X_test_scaled = scaler.transform(X_test)"
      ],
      "metadata": {
        "id": "3mDdVKR4FyhM"
      },
      "execution_count": 3,
      "outputs": []
    },
    {
      "cell_type": "code",
      "source": [
        "# Define models\n",
        "models = {\n",
        "    'Linear Regression': LinearRegression(),\n",
        "    'Ridge Regression': Ridge(alpha=0.75),\n",
        "    'Lasso Regression': Lasso(alpha=0.56),\n",
        "    'K-Nearest Neighbors': KNeighborsRegressor(n_neighbors=3),\n",
        "    'Random Forest': RandomForestRegressor(n_estimators=50, random_state=42)\n",
        "}\n",
        "\n",
        "# Train models and make predictions\n",
        "biomass_predictions = []\n",
        "plant_height_predictions = []\n",
        "\n",
        "for name, model in models.items():\n",
        "    # For biomass\n",
        "    model.fit(X_train_scaled, y_biomass)\n",
        "    biomass_predictions.append(model.predict(X_test_scaled))\n",
        "\n",
        "    # For plant height\n",
        "    model.fit(X_train_scaled, y_plant_height)\n",
        "    plant_height_predictions.append(model.predict(X_test_scaled))"
      ],
      "metadata": {
        "id": "kvDBlIptF0ZP"
      },
      "execution_count": 4,
      "outputs": []
    },
    {
      "cell_type": "code",
      "source": [
        "# Average predictions\n",
        "avg_biomass = np.mean(biomass_predictions, axis=0)\n",
        "avg_plant_height = np.mean(plant_height_predictions, axis=0)\n",
        "\n",
        "# Create results DataFrame\n",
        "results = pd.DataFrame({\n",
        "    'sample_id': test_data['sample_id'],\n",
        "    'biomass': avg_biomass,\n",
        "    'plant_height': avg_plant_height\n",
        "})\n",
        "\n",
        "# Display results\n",
        "print(results.to_string(index=False))"
      ],
      "metadata": {
        "colab": {
          "base_uri": "https://localhost:8080/"
        },
        "id": "Mya3GcC7GA37",
        "outputId": "39be172f-3601-4dcc-af03-bbd7ac72d48a"
      },
      "execution_count": 5,
      "outputs": [
        {
          "output_type": "stream",
          "name": "stdout",
          "text": [
            " sample_id   biomass  plant_height\n",
            "         1  8.031961    105.593237\n",
            "         2 11.420227    121.989368\n",
            "         3 10.029008    106.692176\n",
            "         4  3.319351     75.783413\n",
            "         5  3.088535     75.879058\n",
            "         6  7.821021    104.134612\n",
            "         7  7.883666    100.424735\n",
            "         8  9.863282    106.541398\n",
            "         9  2.601442     67.238716\n",
            "        10  4.725986     86.444599\n",
            "        11  8.718990    109.480608\n"
          ]
        }
      ]
    }
  ]
}